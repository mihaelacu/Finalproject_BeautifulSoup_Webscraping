{
 "cells": [
  {
   "cell_type": "code",
   "execution_count": 3,
   "metadata": {},
   "outputs": [],
   "source": [
    "from bs4 import BeautifulSoup\n",
    "import requests"
   ]
  },
  {
   "cell_type": "code",
   "execution_count": 4,
   "metadata": {},
   "outputs": [],
   "source": [
    "headers = { 'User-Agent': 'Mozilla/5.0 (Windows NT 6.0; WOW64; rv:24.0) Gecko/20100101 Firefox/24.0' }"
   ]
  },
  {
   "cell_type": "code",
   "execution_count": 5,
   "metadata": {},
   "outputs": [],
   "source": [
    "result = requests.get(\"https://www.oglasnik.hr/stanovi-prodaja?ad_location_2%5B%5D=7442&ad_price_code=EUR\")"
   ]
  },
  {
   "cell_type": "code",
   "execution_count": 6,
   "metadata": {},
   "outputs": [
    {
     "data": {
      "text/plain": [
       "200"
      ]
     },
     "execution_count": 6,
     "metadata": {},
     "output_type": "execute_result"
    }
   ],
   "source": [
    "result.status_code"
   ]
  },
  {
   "cell_type": "code",
   "execution_count": 7,
   "metadata": {},
   "outputs": [],
   "source": [
    "page_content = result.content"
   ]
  },
  {
   "cell_type": "code",
   "execution_count": 8,
   "metadata": {},
   "outputs": [],
   "source": [
    "soup = BeautifulSoup(page_content)"
   ]
  },
  {
   "cell_type": "code",
   "execution_count": 11,
   "metadata": {},
   "outputs": [],
   "source": [
    "titles = soup.find_all('h3', class_=\"classified-title\")\n",
    "#<h3 class=\"classified-title\">Vrapče, 2,5-sobni stan u zgradi površine 71 m2</h3>"
   ]
  },
  {
   "cell_type": "code",
   "execution_count": 15,
   "metadata": {},
   "outputs": [
    {
     "data": {
      "text/plain": [
       "<h3 class=\"classified-title\">Vrapče, 2,5-sobni stan u zgradi površine 71 m2</h3>"
      ]
     },
     "execution_count": 15,
     "metadata": {},
     "output_type": "execute_result"
    }
   ],
   "source": [
    "titles[0]"
   ]
  },
  {
   "cell_type": "code",
   "execution_count": 16,
   "metadata": {},
   "outputs": [],
   "source": [
    "data = []\n",
    "for title in titles:\n",
    "    data.append(title.text)"
   ]
  },
  {
   "cell_type": "code",
   "execution_count": 17,
   "metadata": {},
   "outputs": [
    {
     "data": {
      "text/plain": [
       "'Vrapče, 2,5-sobni stan u zgradi površine 71 m2'"
      ]
     },
     "execution_count": 17,
     "metadata": {},
     "output_type": "execute_result"
    }
   ],
   "source": [
    "data[0]"
   ]
  },
  {
   "cell_type": "code",
   "execution_count": 32,
   "metadata": {},
   "outputs": [],
   "source": [
    "#urls = []\n",
    "        #for link in article.find_all(\"a\",\"ad-box ad-box-wide no-hover no-checkbox category-listing clearfix izdvojeno-osnovni\"):\n",
    "        #urls.append(link.get(\"href\"))\n",
    "        \n",
    "        #<a href=\"https://www.oglasnik.hr/stanovi-prodaja/maksimir-remete-oglas-4086158\" class=\"ad-box ad-box-wide no-hover no-checkbox category-listing clearfix izdvojeno-osnovni\">\n",
    "           "
   ]
  },
  {
   "cell_type": "code",
   "execution_count": null,
   "metadata": {},
   "outputs": [],
   "source": []
  },
  {
   "cell_type": "code",
   "execution_count": 33,
   "metadata": {},
   "outputs": [],
   "source": [
    "urls = []\n",
    "for link in soup.find_all(\"a\", \"ad-box ad-box-wide no-hover no-checkbox category-listing clearfix izdvojeno-osnovni\"):\n",
    "    urls.append(link.get(\"href\"))"
   ]
  },
  {
   "cell_type": "code",
   "execution_count": 25,
   "metadata": {},
   "outputs": [
    {
     "data": {
      "text/plain": [
       "'https://www.oglasnik.hr/stanovi-prodaja/srednjaci-prostran-3-soban-stan-na-odlicnoj-lokaciji-oglas-4086336'"
      ]
     },
     "execution_count": 25,
     "metadata": {},
     "output_type": "execute_result"
    }
   ],
   "source": [
    "urls[0]"
   ]
  },
  {
   "cell_type": "code",
   "execution_count": 30,
   "metadata": {},
   "outputs": [],
   "source": [
    "urls = [url for url in urls if url.startswith(\"/\")]"
   ]
  },
  {
   "cell_type": "code",
   "execution_count": 29,
   "metadata": {},
   "outputs": [
    {
     "data": {
      "text/plain": [
       "0"
      ]
     },
     "execution_count": 29,
     "metadata": {},
     "output_type": "execute_result"
    }
   ],
   "source": [
    "len(urls)"
   ]
  },
  {
   "cell_type": "code",
   "execution_count": 31,
   "metadata": {},
   "outputs": [],
   "source": [
    "the_data = []"
   ]
  },
  {
   "cell_type": "code",
   "execution_count": 173,
   "metadata": {},
   "outputs": [],
   "source": [
    "for link in soup.find_all(\"a\", \"ad-box ad-box-wide no-hover no-checkbox category-listing clearfix izdvojeno-osnovni\"):\n",
    "    naslov, kvadratura, sobnost, cijena = \"NaN\", \"NaN\", \"NaN\", \"NaN\"\n",
    "    \n",
    "    if link.find(\"h3\",\"classified-title\")!= None:\n",
    "        naslov = link.find(\"h3\",\"classified-title\").text\n",
    "    \n",
    "    if link.find(\"span\", \"classified-param-value\")!= None:\n",
    "        kvadratura = link.find(\"span\", \"classified-param-value\").text\n",
    "       #<span class=\"classified-param-value\">71 m<sup>2</sup></span>\n",
    "        \n",
    "    #if link.find(\"span\", \"classified-param-value\") != None:\n",
    "        #sobnost = link.find(\"span\", \"classified-param-value\").text\n",
    "        #<span class=\"classified-param-value\">2,5-sobni</span>\n",
    "        \n",
    "        \n",
    "        sobnost= link.findAll(\"span\", {\"class\" : \"classified-param-value\"})\n",
    "        sobnost= sobnost[1]\n",
    "        sobnost.text\n",
    "    \n",
    "        \n",
    "        #if link.find(\"class\", \"Broj soba:\")!= None:\n",
    "            #sobnost = link.find(\"class\",\"Broj soba:\").text\n",
    "        #<span class=\"classified-param-value\">2,5-sobni</span>\n",
    "        #<span class=\"classified-param\">Broj soba: <span class=\"classified-param-value\">2,5-sobni</span></span>\n",
    "        \n",
    "        \n",
    "    if link.find(\"span\", \"price-kn\")!= None:\n",
    "        cijena = link.find(\"span\", \"price-kn\").text\n",
    "        #<span class=\"price-kn\">886.361 kn</span>\n",
    "        \n",
    "    the_data.append({\n",
    "        \"naslov\": naslov,\n",
    "        \"kvadratura\": kvadratura,\n",
    "        \"cijena\": cijena,\n",
    "        \"sobnost\": sobnost\n",
    "        \n",
    "        \n",
    "        \n",
    "    })"
   ]
  },
  {
   "cell_type": "code",
   "execution_count": 168,
   "metadata": {},
   "outputs": [],
   "source": [
    "import pandas as pd"
   ]
  },
  {
   "cell_type": "code",
   "execution_count": 169,
   "metadata": {},
   "outputs": [],
   "source": [
    "df = pd.DataFrame(data=the_data)"
   ]
  },
  {
   "cell_type": "code",
   "execution_count": 174,
   "metadata": {},
   "outputs": [
    {
     "data": {
      "text/html": [
       "<div>\n",
       "<style scoped>\n",
       "    .dataframe tbody tr th:only-of-type {\n",
       "        vertical-align: middle;\n",
       "    }\n",
       "\n",
       "    .dataframe tbody tr th {\n",
       "        vertical-align: top;\n",
       "    }\n",
       "\n",
       "    .dataframe thead th {\n",
       "        text-align: right;\n",
       "    }\n",
       "</style>\n",
       "<table border=\"1\" class=\"dataframe\">\n",
       "  <thead>\n",
       "    <tr style=\"text-align: right;\">\n",
       "      <th></th>\n",
       "      <th>cijena</th>\n",
       "      <th>kvadratura</th>\n",
       "      <th>naslov</th>\n",
       "      <th>sobnost</th>\n",
       "    </tr>\n",
       "  </thead>\n",
       "  <tbody>\n",
       "    <tr>\n",
       "      <th>0</th>\n",
       "      <td>1.107.951 kn</td>\n",
       "      <td>77 m2</td>\n",
       "      <td>SREDNJACI, PROSTRAN 3-SOBAN STAN NA ODLIČNOJ L...</td>\n",
       "      <td>NaN</td>\n",
       "    </tr>\n",
       "    <tr>\n",
       "      <th>1</th>\n",
       "      <td>517.044 kn</td>\n",
       "      <td>35 m2</td>\n",
       "      <td>Maksimir - Remete</td>\n",
       "      <td>NaN</td>\n",
       "    </tr>\n",
       "    <tr>\n",
       "      <th>2</th>\n",
       "      <td>1.477.268 kn</td>\n",
       "      <td>106 m2</td>\n",
       "      <td>Remete 4 sobni</td>\n",
       "      <td>NaN</td>\n",
       "    </tr>\n",
       "    <tr>\n",
       "      <th>3</th>\n",
       "      <td>738.634 kn</td>\n",
       "      <td>56 m2</td>\n",
       "      <td>NA PRODAJU 2S STAN,56m2,I-KAT,ZAGREB,KNEŽIJA</td>\n",
       "      <td>NaN</td>\n",
       "    </tr>\n",
       "    <tr>\n",
       "      <th>4</th>\n",
       "      <td>674.690 kn</td>\n",
       "      <td>55 m2</td>\n",
       "      <td>DUBRAVA, MIROŠEVEČKA C: STAN U NOVOGRADNJI, 55 m2</td>\n",
       "      <td>NaN</td>\n",
       "    </tr>\n",
       "    <tr>\n",
       "      <th>5</th>\n",
       "      <td>544.373 kn</td>\n",
       "      <td>36 m2</td>\n",
       "      <td>Zagreb, Kvatrić, 1-sobni 36,85 m2 PRILIKA</td>\n",
       "      <td>NaN</td>\n",
       "    </tr>\n",
       "    <tr>\n",
       "      <th>6</th>\n",
       "      <td>849.429 kn</td>\n",
       "      <td>54 m2</td>\n",
       "      <td>Trešnjevka, Ozaljska, 2.s.stan, 54m2 na 1.katu...</td>\n",
       "      <td>NaN</td>\n",
       "    </tr>\n",
       "    <tr>\n",
       "      <th>7</th>\n",
       "      <td>1.809.654 kn</td>\n",
       "      <td>135 m2</td>\n",
       "      <td>Zagreb, Ksaver, stan, 135 m2</td>\n",
       "      <td>NaN</td>\n",
       "    </tr>\n",
       "    <tr>\n",
       "      <th>8</th>\n",
       "      <td>701.702 kn</td>\n",
       "      <td>76 m2</td>\n",
       "      <td>Zagreb, Sesvete, 3-sobni stan s terasom, 76 m2</td>\n",
       "      <td>NaN</td>\n",
       "    </tr>\n",
       "    <tr>\n",
       "      <th>9</th>\n",
       "      <td>1.137.496 kn</td>\n",
       "      <td>98 m2</td>\n",
       "      <td>Zagreb-Gajnice, 3.5-sobni stan u zgradi, proda...</td>\n",
       "      <td>NaN</td>\n",
       "    </tr>\n",
       "  </tbody>\n",
       "</table>\n",
       "</div>"
      ],
      "text/plain": [
       "         cijena kvadratura                                             naslov  \\\n",
       "0  1.107.951 kn      77 m2  SREDNJACI, PROSTRAN 3-SOBAN STAN NA ODLIČNOJ L...   \n",
       "1    517.044 kn      35 m2                                  Maksimir - Remete   \n",
       "2  1.477.268 kn     106 m2                                     Remete 4 sobni   \n",
       "3    738.634 kn      56 m2       NA PRODAJU 2S STAN,56m2,I-KAT,ZAGREB,KNEŽIJA   \n",
       "4    674.690 kn      55 m2  DUBRAVA, MIROŠEVEČKA C: STAN U NOVOGRADNJI, 55 m2   \n",
       "5    544.373 kn      36 m2          Zagreb, Kvatrić, 1-sobni 36,85 m2 PRILIKA   \n",
       "6    849.429 kn      54 m2  Trešnjevka, Ozaljska, 2.s.stan, 54m2 na 1.katu...   \n",
       "7  1.809.654 kn     135 m2                       Zagreb, Ksaver, stan, 135 m2   \n",
       "8    701.702 kn      76 m2     Zagreb, Sesvete, 3-sobni stan s terasom, 76 m2   \n",
       "9  1.137.496 kn      98 m2  Zagreb-Gajnice, 3.5-sobni stan u zgradi, proda...   \n",
       "\n",
       "  sobnost  \n",
       "0     NaN  \n",
       "1     NaN  \n",
       "2     NaN  \n",
       "3     NaN  \n",
       "4     NaN  \n",
       "5     NaN  \n",
       "6     NaN  \n",
       "7     NaN  \n",
       "8     NaN  \n",
       "9     NaN  "
      ]
     },
     "execution_count": 174,
     "metadata": {},
     "output_type": "execute_result"
    }
   ],
   "source": [
    "df.head(10)"
   ]
  },
  {
   "cell_type": "code",
   "execution_count": 166,
   "metadata": {},
   "outputs": [
    {
     "data": {
      "text/plain": [
       "[<span class=\"classified-param-value\">52 m<sup>2</sup></span>,\n",
       " <span class=\"classified-param-value\">2-2.5 sobni</span>]"
      ]
     },
     "execution_count": 166,
     "metadata": {},
     "output_type": "execute_result"
    }
   ],
   "source": [
    "link.find_all(\"span\", \"classified-param-value\")"
   ]
  },
  {
   "cell_type": "code",
   "execution_count": 135,
   "metadata": {},
   "outputs": [
    {
     "name": "stdout",
     "output_type": "stream",
     "text": [
      "<span class=\"classified-param-value\">2,5-sobni</span>\n"
     ]
    }
   ],
   "source": [
    "ct= soup.findAll(\"span\", {\"class\" : \"classified-param-value\"})\n",
    "ct= ct[1]\n",
    "print(ct)\n"
   ]
  },
  {
   "cell_type": "code",
   "execution_count": 145,
   "metadata": {},
   "outputs": [
    {
     "data": {
      "text/plain": [
       "'2-2.5 sobni'"
      ]
     },
     "execution_count": 145,
     "metadata": {},
     "output_type": "execute_result"
    }
   ],
   "source": [
    "ct.text"
   ]
  },
  {
   "cell_type": "code",
   "execution_count": 175,
   "metadata": {},
   "outputs": [
    {
     "data": {
      "text/plain": [
       "399"
      ]
     },
     "execution_count": 175,
     "metadata": {},
     "output_type": "execute_result"
    }
   ],
   "source": [
    "len(df)"
   ]
  },
  {
   "cell_type": "code",
   "execution_count": 176,
   "metadata": {},
   "outputs": [],
   "source": [
    "df.to_csv(\"stanovi_analiza.csv\", index=False, sep=\",\")"
   ]
  },
  {
   "cell_type": "code",
   "execution_count": null,
   "metadata": {},
   "outputs": [],
   "source": []
  }
 ],
 "metadata": {
  "kernelspec": {
   "display_name": "Python 3",
   "language": "python",
   "name": "python3"
  },
  "language_info": {
   "codemirror_mode": {
    "name": "ipython",
    "version": 3
   },
   "file_extension": ".py",
   "mimetype": "text/x-python",
   "name": "python",
   "nbconvert_exporter": "python",
   "pygments_lexer": "ipython3",
   "version": "3.7.3"
  }
 },
 "nbformat": 4,
 "nbformat_minor": 2
}
